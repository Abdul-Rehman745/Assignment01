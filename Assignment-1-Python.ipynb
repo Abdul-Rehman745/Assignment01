{
 "cells": [
  {
   "cell_type": "code",
   "execution_count": 1,
   "id": "c642ac96",
   "metadata": {},
   "outputs": [
    {
     "name": "stdout",
     "output_type": "stream",
     "text": [
      "Twinkle Twinkle, little star,\n",
      "\tHow I wonder what you are!\n",
      "\t\tUp above the world so high,\n",
      "\t\tLike a diamond in the sky.\n",
      "Twinkle Twinkle, little star,\n",
      "\tHow I wonder what you are\n"
     ]
    }
   ],
   "source": [
    "#Q1\n",
    "print(\"Twinkle Twinkle, little star,\\n\\tHow I wonder what you are!\\n\\t\\tUp above the world so high,\\n\\t\\tLike a diamond in the sky.\\nTwinkle Twinkle, little star,\\n\\tHow I wonder what you are\")\n"
   ]
  },
  {
   "cell_type": "code",
   "execution_count": 3,
   "id": "19c4aa60",
   "metadata": {},
   "outputs": [
    {
     "name": "stdout",
     "output_type": "stream",
     "text": [
      "Python Version :  3.9.7 (default, Sep 16 2021, 16:59:28) [MSC v.1916 64 bit (AMD64)]\n"
     ]
    }
   ],
   "source": [
    "#Q2\n",
    "import sys\n",
    "print(\"Python Version : \",sys.version)"
   ]
  },
  {
   "cell_type": "code",
   "execution_count": 4,
   "id": "75373cf2",
   "metadata": {},
   "outputs": [
    {
     "name": "stdout",
     "output_type": "stream",
     "text": [
      "January 01, 2022 \n",
      " 03:52:39\n"
     ]
    }
   ],
   "source": [
    "#Q3\n",
    "\n",
    "from datetime import datetime\n",
    "\n",
    "now = datetime.now()\n",
    "today = now.strftime(\"%B %d, %Y \\n %H:%M:%S\")\n",
    "print( today)"
   ]
  },
  {
   "cell_type": "code",
   "execution_count": 5,
   "id": "bb2aaa83",
   "metadata": {},
   "outputs": [
    {
     "name": "stdout",
     "output_type": "stream",
     "text": [
      "Enter Radius of circle5.67\n",
      "The Area of Circle having Radius 5.67 is : 100.9987480609929\n"
     ]
    }
   ],
   "source": [
    "#Q4\n",
    "from math import pi\n",
    "radius = float(input(\"Enter Radius of circle\"))\n",
    "Area = pi*radius*radius\n",
    "print(\"The Area of Circle having Radius {0} is : {1}\".format(radius,Area))"
   ]
  },
  {
   "cell_type": "code",
   "execution_count": 6,
   "id": "cff7ae70",
   "metadata": {},
   "outputs": [
    {
     "name": "stdout",
     "output_type": "stream",
     "text": [
      "Enter your First Name : Sheikh\n",
      "Enter your Last Name : Abdul-Rehman\n",
      "Abdul-Rehman Sheikh\n"
     ]
    }
   ],
   "source": [
    "#Q5\n",
    "first_name = input(\"Enter your First Name : \")\n",
    "last_name = input(\"Enter your Last Name : \")\n",
    "print (last_name + \" \" + first_name)"
   ]
  },
  {
   "cell_type": "code",
   "execution_count": 7,
   "id": "f9555038",
   "metadata": {},
   "outputs": [
    {
     "name": "stdout",
     "output_type": "stream",
     "text": [
      "Enter First Number: 567\n",
      "Enter Second Number: 765\n",
      "The sum of 567 and 765 is 1332.0\n"
     ]
    }
   ],
   "source": [
    "#Q6\n",
    "a=input(\"Enter First Number: \")\n",
    "b=input(\"Enter Second Number: \")\n",
    "sum = float(a) + float(b)\n",
    "print('The sum of {0} and {1} is {2}'.format(a, b, sum))"
   ]
  },
  {
   "cell_type": "code",
   "execution_count": null,
   "id": "c8d9584f",
   "metadata": {},
   "outputs": [],
   "source": []
  },
  {
   "cell_type": "code",
   "execution_count": null,
   "id": "2697c2b6",
   "metadata": {},
   "outputs": [],
   "source": []
  }
 ],
 "metadata": {
  "kernelspec": {
   "display_name": "Python 3 (ipykernel)",
   "language": "python",
   "name": "python3"
  },
  "language_info": {
   "codemirror_mode": {
    "name": "ipython",
    "version": 3
   },
   "file_extension": ".py",
   "mimetype": "text/x-python",
   "name": "python",
   "nbconvert_exporter": "python",
   "pygments_lexer": "ipython3",
   "version": "3.9.7"
  }
 },
 "nbformat": 4,
 "nbformat_minor": 5
}
